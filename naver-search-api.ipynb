{
 "cells": [
  {
   "cell_type": "code",
   "execution_count": null,
   "id": "d70d0dee",
   "metadata": {},
   "outputs": [],
   "source": [
    "# 3-1. 네이버 책 검색 API 호출하기 (필수)\n",
    "import os\n",
    "import json\n",
    "import urllib.request\n",
    "from urllib.parse import urlencode\n",
    "\n",
    "CLIENT_ID = os.getenv(\"NAVER_CLIENT_ID\")\n",
    "CLIENT_SECRET = os.getenv(\"NAVER_CLIENT_SECRET\")\n",
    "\n",
    "def search_books(query: str) -> None:\n",
    "    payload = {\n",
    "        'query': query,\n",
    "        'display': 50,\n",
    "        'sort': 'sim'\n",
    "    }\n",
    "    headers = {\n",
    "        \"X-Naver-Client-Id\": CLIENT_ID,\n",
    "        \"X-Naver-Client-Secret\": CLIENT_SECRET\n",
    "    }\n",
    "\n",
    "    url = f\"https://openapi.naver.com/v1/search/book.json?{urlencode(payload)}\"\n",
    "    request = urllib.request.Request(url, headers=headers)\n",
    "\n",
    "    with urllib.request.urlopen(request) as response:\n",
    "        if response.getcode() == 200:\n",
    "            body = response.read().decode('utf-8')\n",
    "            print(body)\n",
    "            data = json.loads(body)\n",
    "            with open('books.json', 'w', encoding='utf-8') as f:\n",
    "                json.dump(data[\"items\"], f, ensure_ascii=False, indent=4)\n",
    "            print(\"Saved JSON file 'books.json'\")\n",
    "        else:\n",
    "            print(\"Error Code:\", response.getcode())\n",
    "\n",
    "search_books('파이썬')\n"
   ]
  },
  {
   "cell_type": "code",
   "execution_count": null,
   "id": "772b401a",
   "metadata": {},
   "outputs": [],
   "source": [
    "import pandas as pd\n",
    "book_info = pd.read_json('books.json')\n",
    "print(type(book_info))\n",
    "book_info.head(50)"
   ]
  },
  {
   "cell_type": "code",
   "execution_count": null,
   "id": "c92432f6",
   "metadata": {},
   "outputs": [],
   "source": []
  }
 ],
 "metadata": {
  "kernelspec": {
   "display_name": "base",
   "language": "python",
   "name": "python3"
  },
  "language_info": {
   "codemirror_mode": {
    "name": "ipython",
    "version": 3
   },
   "file_extension": ".py",
   "mimetype": "text/x-python",
   "name": "python",
   "nbconvert_exporter": "python",
   "pygments_lexer": "ipython3",
   "version": "3.12.7"
  }
 },
 "nbformat": 4,
 "nbformat_minor": 5
}
